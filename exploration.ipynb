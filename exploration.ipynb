{
 "cells": [
  {
   "cell_type": "code",
   "execution_count": 1,
   "metadata": {
    "collapsed": true
   },
   "outputs": [],
   "source": [
    "import pandas as pd\n",
    "import numpy as np\n",
    "from sklearn.linear_model import LinearRegression\n",
    "from sklearn.ensemble import GradientBoostingRegressor, RandomForestRegressor, GradientBoostingClassifier\n",
    "from sklearn.model_selection import KFold, cross_val_score\n",
    "from sklearn.metrics import log_loss\n",
    "from sklearn.preprocessing import OneHotEncoder\n",
    "from sklearn.feature_selection import mutual_info_regression"
   ]
  },
  {
   "cell_type": "code",
   "execution_count": 2,
   "metadata": {
    "collapsed": false
   },
   "outputs": [
    {
     "data": {
      "text/plain": [
       "((30471, 292), (7662, 291))"
      ]
     },
     "execution_count": 2,
     "metadata": {},
     "output_type": "execute_result"
    }
   ],
   "source": [
    "df_train_raw = pd.read_csv('train.csv')\n",
    "df_test_raw = pd.read_csv('test.csv')\n",
    "df_macro_data = pd.read_csv('macro.csv')\n",
    "df_macro_euusd = df_macro_data[['timestamp', 'usdrub', 'eurrub']]\n",
    "\n",
    "df_train_raw.shape, df_test_raw.shape"
   ]
  },
  {
   "cell_type": "code",
   "execution_count": 3,
   "metadata": {
    "collapsed": true
   },
   "outputs": [],
   "source": [
    "def time_year(x):\n",
    "    year = x.split('-')\n",
    "    return int(year[0])"
   ]
  },
  {
   "cell_type": "code",
   "execution_count": 4,
   "metadata": {
    "collapsed": true
   },
   "outputs": [],
   "source": [
    "def time_month(x):\n",
    "    month = x.split('-')\n",
    "    return int(month[1])"
   ]
  },
  {
   "cell_type": "code",
   "execution_count": 5,
   "metadata": {
    "collapsed": true
   },
   "outputs": [],
   "source": [
    "def conv_to_bool(x):\n",
    "    if x == 'yes':\n",
    "        return 1\n",
    "    else:\n",
    "        return 0"
   ]
  },
  {
   "cell_type": "code",
   "execution_count": 6,
   "metadata": {
    "collapsed": true
   },
   "outputs": [],
   "source": [
    "df_train_raw = pd.merge(df_train_raw, df_macro_data, on='timestamp')\n",
    "df_test_raw = pd.merge(df_test_raw, df_macro_data, on='timestamp')"
   ]
  },
  {
   "cell_type": "code",
   "execution_count": 7,
   "metadata": {
    "collapsed": false
   },
   "outputs": [
    {
     "name": "stdout",
     "output_type": "stream",
     "text": [
      "296 65\n"
     ]
    }
   ],
   "source": [
    "s = 'oil_chemistry_raion'\n",
    "\n",
    "te_bool = (df_test_raw[s].apply(conv_to_bool) == 1).sum()\n",
    "tr_bool = (df_train_raw[s].apply(conv_to_bool) == 1).sum()\n",
    "\n",
    "print(tr_bool, te_bool)"
   ]
  },
  {
   "cell_type": "code",
   "execution_count": 8,
   "metadata": {
    "collapsed": false
   },
   "outputs": [
    {
     "data": {
      "text/plain": [
       "5"
      ]
     },
     "execution_count": 8,
     "metadata": {},
     "output_type": "execute_result"
    }
   ],
   "source": [
    "df_train_raw['ecology'].nunique()"
   ]
  },
  {
   "cell_type": "code",
   "execution_count": 8,
   "metadata": {
    "collapsed": false
   },
   "outputs": [
    {
     "name": "stdout",
     "output_type": "stream",
     "text": [
      "floor 167\n",
      "max_floor 9572\n",
      "material 9572\n",
      "num_room 9572\n",
      "kitch_sq 9572\n",
      "['floor', 'max_floor', 'material', 'num_room', 'kitch_sq']\n"
     ]
    }
   ],
   "source": [
    "na_train_only = []\n",
    "for c in df_test_raw.columns:\n",
    "    if pd.isnull(df_train_raw[c]).sum() != 0 and pd.isnull(df_test_raw[c]).sum() == 0:\n",
    "        if type(df_train_raw[c][0]) != str:\n",
    "            print(c, pd.isnull(df_train_raw[c]).sum())\n",
    "            na_train_only.append(c)\n",
    "print(na_train_only)"
   ]
  },
  {
   "cell_type": "code",
   "execution_count": 17,
   "metadata": {
    "collapsed": false
   },
   "outputs": [
    {
     "data": {
      "text/plain": [
       "167"
      ]
     },
     "execution_count": 17,
     "metadata": {},
     "output_type": "execute_result"
    }
   ],
   "source": [
    "(pd.isnull(df_train_raw['floor']) & pd.isnull(df_train_raw['max_floor'])).sum()"
   ]
  },
  {
   "cell_type": "code",
   "execution_count": 18,
   "metadata": {
    "collapsed": false
   },
   "outputs": [
    {
     "name": "stdout",
     "output_type": "stream",
     "text": [
      "green_part_2000 19\n",
      "income_per_cap 3983\n",
      "salary 3983\n",
      "salary_growth 3983\n",
      "retail_trade_turnover 3983\n",
      "retail_trade_turnover_per_cap 3983\n",
      "retail_trade_turnover_growth 3983\n",
      "labor_force 3983\n",
      "unemployment 3983\n",
      "employment 3983\n",
      "invest_fixed_capital_per_cap 3983\n",
      "invest_fixed_assets 3983\n",
      "pop_natural_increase 3983\n",
      "childbirth 3983\n",
      "mortality 3983\n",
      "average_life_exp 3983\n",
      "load_of_teachers_school_per_teacher 3983\n",
      "students_state_oneshift 3983\n",
      "provision_nurse 3983\n",
      "load_on_doctors 3983\n",
      "turnover_catering_per_cap 3983\n",
      "seats_theather_rfmin_per_100000_cap 3983\n",
      "bandwidth_sports 3983\n",
      "apartment_fund_sqm 3983\n"
     ]
    }
   ],
   "source": [
    "# na_train_only = []\n",
    "for c in df_test_raw.columns:\n",
    "    if pd.isnull(df_train_raw[c]).sum() == 0 and pd.isnull(df_test_raw[c]).sum() != 0:\n",
    "        if type(df_train_raw[c][0]) != str:\n",
    "            print(c, pd.isnull(df_test_raw[c]).sum())\n",
    "#             na_train_only.append(c)\n",
    "# print(na_train_only)"
   ]
  },
  {
   "cell_type": "code",
   "execution_count": 9,
   "metadata": {
    "collapsed": false
   },
   "outputs": [
    {
     "name": "stdout",
     "output_type": "stream",
     "text": [
      "'id',\n",
      "'full_sq',\n",
      "'area_m',\n",
      "'raion_popul',\n",
      "'green_zone_part',\n",
      "'indust_part',\n",
      "'children_preschool',\n",
      "'preschool_education_centers_raion',\n",
      "'children_school',\n",
      "'school_education_centers_raion',\n",
      "'school_education_centers_top_20_raion',\n",
      "'healthcare_centers_raion',\n",
      "'university_top_20_raion',\n",
      "'sport_objects_raion',\n",
      "'additional_education_raion',\n",
      "'culture_objects_top_25_raion',\n",
      "'shopping_centers_raion',\n",
      "'office_raion',\n",
      "'full_all',\n",
      "'male_f',\n",
      "'female_f',\n",
      "'young_all',\n",
      "'young_male',\n",
      "'young_female',\n",
      "'work_all',\n",
      "'work_male',\n",
      "'work_female',\n",
      "'ekder_all',\n",
      "'ekder_male',\n",
      "'ekder_female',\n",
      "'0_6_all',\n",
      "'0_6_male',\n",
      "'0_6_female',\n",
      "'7_14_all',\n",
      "'7_14_male',\n",
      "'7_14_female',\n",
      "'0_17_all',\n",
      "'0_17_male',\n",
      "'0_17_female',\n",
      "'16_29_all',\n",
      "'16_29_male',\n",
      "'16_29_female',\n",
      "'0_13_all',\n",
      "'0_13_male',\n",
      "'0_13_female',\n",
      "'ID_metro',\n",
      "'metro_min_avto',\n",
      "'metro_km_avto',\n",
      "'kindergarten_km',\n",
      "'school_km',\n",
      "'park_km',\n",
      "'green_zone_km',\n",
      "'industrial_km',\n",
      "'water_treatment_km',\n",
      "'cemetery_km',\n",
      "'incineration_km',\n",
      "'railroad_station_avto_km',\n",
      "'railroad_station_avto_min',\n",
      "'ID_railroad_station_avto',\n",
      "'public_transport_station_km',\n",
      "'public_transport_station_min_walk',\n",
      "'water_km',\n",
      "'mkad_km',\n",
      "'ttk_km',\n",
      "'sadovoe_km',\n",
      "'bulvar_ring_km',\n",
      "'kremlin_km',\n",
      "'big_road1_km',\n",
      "'ID_big_road1',\n",
      "'big_road2_km',\n",
      "'ID_big_road2',\n",
      "'railroad_km',\n",
      "'zd_vokzaly_avto_km',\n",
      "'ID_railroad_terminal',\n",
      "'bus_terminal_avto_km',\n",
      "'ID_bus_terminal',\n",
      "'oil_chemistry_km',\n",
      "'nuclear_reactor_km',\n",
      "'radiation_km',\n",
      "'power_transmission_line_km',\n",
      "'thermal_power_plant_km',\n",
      "'ts_km',\n",
      "'big_market_km',\n",
      "'market_shop_km',\n",
      "'fitness_km',\n",
      "'swim_pool_km',\n",
      "'ice_rink_km',\n",
      "'stadium_km',\n",
      "'basketball_km',\n",
      "'hospice_morgue_km',\n",
      "'detention_facility_km',\n",
      "'public_healthcare_km',\n",
      "'university_km',\n",
      "'workplaces_km',\n",
      "'shopping_centers_km',\n",
      "'office_km',\n",
      "'additional_education_km',\n",
      "'preschool_km',\n",
      "'big_church_km',\n",
      "'church_synagogue_km',\n",
      "'mosque_km',\n",
      "'theater_km',\n",
      "'museum_km',\n",
      "'exhibition_km',\n",
      "'catering_km',\n",
      "'green_part_500',\n",
      "'prom_part_500',\n",
      "'office_count_500',\n",
      "'office_sqm_500',\n",
      "'trc_count_500',\n",
      "'trc_sqm_500',\n",
      "'cafe_count_500',\n",
      "'cafe_count_500_na_price',\n",
      "'cafe_count_500_price_500',\n",
      "'cafe_count_500_price_1000',\n",
      "'cafe_count_500_price_1500',\n",
      "'cafe_count_500_price_2500',\n",
      "'cafe_count_500_price_4000',\n",
      "'cafe_count_500_price_high',\n",
      "'big_church_count_500',\n",
      "'church_count_500',\n",
      "'mosque_count_500',\n",
      "'leisure_count_500',\n",
      "'sport_count_500',\n",
      "'market_count_500',\n",
      "'green_part_1000',\n",
      "'prom_part_1000',\n",
      "'office_count_1000',\n",
      "'office_sqm_1000',\n",
      "'trc_count_1000',\n",
      "'trc_sqm_1000',\n",
      "'cafe_count_1000',\n",
      "'cafe_count_1000_na_price',\n",
      "'cafe_count_1000_price_500',\n",
      "'cafe_count_1000_price_1000',\n",
      "'cafe_count_1000_price_1500',\n",
      "'cafe_count_1000_price_2500',\n",
      "'cafe_count_1000_price_4000',\n",
      "'cafe_count_1000_price_high',\n",
      "'big_church_count_1000',\n",
      "'church_count_1000',\n",
      "'mosque_count_1000',\n",
      "'leisure_count_1000',\n",
      "'sport_count_1000',\n",
      "'market_count_1000',\n",
      "'green_part_1500',\n",
      "'prom_part_1500',\n",
      "'office_count_1500',\n",
      "'office_sqm_1500',\n",
      "'trc_count_1500',\n",
      "'trc_sqm_1500',\n",
      "'cafe_count_1500',\n",
      "'cafe_count_1500_na_price',\n",
      "'cafe_count_1500_price_500',\n",
      "'cafe_count_1500_price_1000',\n",
      "'cafe_count_1500_price_1500',\n",
      "'cafe_count_1500_price_2500',\n",
      "'cafe_count_1500_price_4000',\n",
      "'cafe_count_1500_price_high',\n",
      "'big_church_count_1500',\n",
      "'church_count_1500',\n",
      "'mosque_count_1500',\n",
      "'leisure_count_1500',\n",
      "'sport_count_1500',\n",
      "'market_count_1500',\n",
      "'prom_part_2000',\n",
      "'office_count_2000',\n",
      "'office_sqm_2000',\n",
      "'trc_count_2000',\n",
      "'trc_sqm_2000',\n",
      "'cafe_count_2000',\n",
      "'cafe_count_2000_na_price',\n",
      "'cafe_count_2000_price_500',\n",
      "'cafe_count_2000_price_1000',\n",
      "'cafe_count_2000_price_1500',\n",
      "'cafe_count_2000_price_2500',\n",
      "'cafe_count_2000_price_4000',\n",
      "'cafe_count_2000_price_high',\n",
      "'big_church_count_2000',\n",
      "'church_count_2000',\n",
      "'mosque_count_2000',\n",
      "'leisure_count_2000',\n",
      "'sport_count_2000',\n",
      "'market_count_2000',\n",
      "'green_part_3000',\n",
      "'prom_part_3000',\n",
      "'office_count_3000',\n",
      "'office_sqm_3000',\n",
      "'trc_count_3000',\n",
      "'trc_sqm_3000',\n",
      "'cafe_count_3000',\n",
      "'cafe_count_3000_na_price',\n",
      "'cafe_count_3000_price_500',\n",
      "'cafe_count_3000_price_1000',\n",
      "'cafe_count_3000_price_1500',\n",
      "'cafe_count_3000_price_2500',\n",
      "'cafe_count_3000_price_4000',\n",
      "'cafe_count_3000_price_high',\n",
      "'big_church_count_3000',\n",
      "'church_count_3000',\n",
      "'mosque_count_3000',\n",
      "'leisure_count_3000',\n",
      "'sport_count_3000',\n",
      "'market_count_3000',\n",
      "'green_part_5000',\n",
      "'office_count_5000',\n",
      "'office_sqm_5000',\n",
      "'trc_count_5000',\n",
      "'trc_sqm_5000',\n",
      "'cafe_count_5000',\n",
      "'cafe_count_5000_na_price',\n",
      "'cafe_count_5000_price_500',\n",
      "'cafe_count_5000_price_1000',\n",
      "'cafe_count_5000_price_1500',\n",
      "'cafe_count_5000_price_2500',\n",
      "'cafe_count_5000_price_4000',\n",
      "'cafe_count_5000_price_high',\n",
      "'big_church_count_5000',\n",
      "'church_count_5000',\n",
      "'mosque_count_5000',\n",
      "'leisure_count_5000',\n",
      "'sport_count_5000',\n",
      "'market_count_5000',\n",
      "'oil_urals',\n",
      "'gdp_quart',\n",
      "'gdp_quart_growth',\n",
      "'cpi',\n",
      "'ppi',\n",
      "'gdp_deflator',\n",
      "'balance_trade',\n",
      "'balance_trade_growth',\n",
      "'usdrub',\n",
      "'eurrub',\n",
      "'brent',\n",
      "'net_capital_export',\n",
      "'gdp_annual',\n",
      "'gdp_annual_growth',\n",
      "'average_provision_of_build_contract',\n",
      "'average_provision_of_build_contract_moscow',\n",
      "'rts',\n",
      "'micex',\n",
      "'micex_rgbi_tr',\n",
      "'micex_cbi_tr',\n",
      "'deposits_value',\n",
      "'deposits_growth',\n",
      "'deposits_rate',\n",
      "'mortgage_value',\n",
      "'mortgage_growth',\n",
      "'mortgage_rate',\n",
      "'fixed_basket',\n",
      "'rent_price_4+room_bus',\n",
      "'rent_price_3room_bus',\n",
      "'rent_price_2room_bus',\n",
      "'rent_price_1room_bus',\n",
      "'rent_price_3room_eco',\n",
      "'rent_price_2room_eco',\n",
      "'rent_price_1room_eco',\n"
     ]
    }
   ],
   "source": [
    "numeric_cols = []\n",
    "for c in df_test_raw.columns:\n",
    "    if pd.isnull(df_train_raw[c]).sum() == 0 and pd.isnull(df_test_raw[c]).sum() == 0:\n",
    "        if type(df_train_raw[c][0]) != str:\n",
    "            print(\"'\" + c + \"',\")\n",
    "            numeric_cols.append(c)"
   ]
  },
  {
   "cell_type": "code",
   "execution_count": 14,
   "metadata": {
    "collapsed": false
   },
   "outputs": [],
   "source": [
    "corr_c = []\n",
    "sp_corr_c = []\n",
    "\n",
    "for c in numeric_cols:\n",
    "    if c != 'id':\n",
    "        cc = df_train_raw[c].corr(df_train_raw['price_doc'] / df_train_raw['eurrub'])\n",
    "        corr_c.append([c, cc])\n",
    "        cc = df_train_raw[c].corr(df_train_raw['price_doc'] / df_train_raw['eurrub'], method='spearman')\n",
    "        sp_corr_c.append([c, cc])"
   ]
  },
  {
   "cell_type": "code",
   "execution_count": 15,
   "metadata": {
    "collapsed": true
   },
   "outputs": [],
   "source": [
    "corr_c = sorted(corr_c, key=lambda x: -abs(x[1]))\n",
    "sp_corr_c = sorted(sp_corr_c, key=lambda x: -abs(x[1]))"
   ]
  },
  {
   "cell_type": "code",
   "execution_count": 16,
   "metadata": {
    "collapsed": false
   },
   "outputs": [
    {
     "data": {
      "text/plain": [
       "[['full_sq', 0.33430970610986782],\n",
       " ['sport_count_5000', 0.28798194993128368],\n",
       " ['sport_count_3000', 0.28705472351720512],\n",
       " ['trc_count_5000', 0.286517726768859],\n",
       " ['zd_vokzaly_avto_km', -0.28275042220905011],\n",
       " ['sadovoe_km', -0.28046967833282999],\n",
       " ['sport_count_2000', 0.27717117280374737],\n",
       " ['bulvar_ring_km', -0.27612741635119731],\n",
       " ['kremlin_km', -0.27556537057610297],\n",
       " ['ttk_km', -0.27058183387321977],\n",
       " ['trc_sqm_5000', 0.26150518180787069],\n",
       " ['nuclear_reactor_km', -0.25951782186054223],\n",
       " ['sport_count_1500', 0.25692451572698266],\n",
       " ['office_sqm_5000', 0.25622059687851173],\n",
       " ['sport_objects_raion', 0.24665530223879836],\n",
       " ['trc_count_3000', 0.24108211604063981],\n",
       " ['stadium_km', -0.23834441322144198],\n",
       " ['cafe_count_5000_price_1000', 0.2310263136088922],\n",
       " ['detention_facility_km', -0.22951796825507947],\n",
       " ['basketball_km', -0.22871309715441912],\n",
       " ['cafe_count_5000_price_1500', 0.22308524363504317],\n",
       " ['office_km', -0.22292887890255433],\n",
       " ['cafe_count_5000', 0.22168543087709422],\n",
       " ['cafe_count_5000_na_price', 0.22059073507040233],\n",
       " ['university_km', -0.21909752676463301],\n",
       " ['trc_sqm_3000', 0.2187649364744382],\n",
       " ['cafe_count_5000_price_500', 0.21734505393898063],\n",
       " ['workplaces_km', -0.21713217209545438],\n",
       " ['cafe_count_5000_price_2500', 0.21498595582794575],\n",
       " ['office_sqm_3000', 0.21448646114173509],\n",
       " ['theater_km', -0.21276866009041509],\n",
       " ['swim_pool_km', -0.21215670381215848],\n",
       " ['thermal_power_plant_km', -0.21198368071103696],\n",
       " ['office_count_5000', 0.20876121425493235],\n",
       " ['catering_km', -0.20781641071354565],\n",
       " ['exhibition_km', -0.20418662916406505],\n",
       " ['church_count_5000', 0.20386244698768596],\n",
       " ['office_sqm_2000', 0.2030362304791577],\n",
       " ['cafe_count_5000_price_high', 0.20239543635827448],\n",
       " ['radiation_km', -0.19972378612316596],\n",
       " ['cafe_count_5000_price_4000', 0.19858893605894598],\n",
       " ['big_church_km', -0.19705855689938198],\n",
       " ['school_education_centers_raion', 0.19694880063893896],\n",
       " ['sport_count_1000', 0.19637592076783711],\n",
       " ['fitness_km', -0.19501448682003536],\n",
       " ['metro_min_avto', -0.19473175768877149],\n",
       " ['market_count_5000', 0.19267977005089459],\n",
       " ['museum_km', -0.19190778964730257],\n",
       " ['park_km', -0.19109819723081323],\n",
       " ['big_church_count_5000', 0.19020720711874198],\n",
       " ['leisure_count_5000', 0.18938237936911334],\n",
       " ['healthcare_centers_raion', 0.18841659811499231],\n",
       " ['office_sqm_1500', 0.18579590521195338],\n",
       " ['ekder_male', 0.18537226300318427],\n",
       " ['metro_km_avto', -0.18340566519463247],\n",
       " ['trc_count_2000', 0.18089586993358109],\n",
       " ['shopping_centers_km', -0.18064016278900677],\n",
       " ['market_shop_km', -0.1801043193584925],\n",
       " ['mosque_count_5000', 0.1798062758570452],\n",
       " ['office_count_500', 0.17926425261350773],\n",
       " ['public_healthcare_km', -0.17779237823377642],\n",
       " ['ekder_all', 0.1763605406241002],\n",
       " ['cafe_count_500_price_1000', 0.17322319501267094],\n",
       " ['area_m', -0.17245054216499389],\n",
       " ['ekder_female', 0.17150412088378136],\n",
       " ['bus_terminal_avto_km', -0.16905896722346653],\n",
       " ['mosque_km', -0.16894575983135879],\n",
       " ['office_count_1000', 0.16848281748883198],\n",
       " ['preschool_education_centers_raion', 0.16579618071253338],\n",
       " ['cafe_count_1000_price_high', 0.16501469616851119],\n",
       " ['university_top_20_raion', 0.16386067932123469],\n",
       " ['hospice_morgue_km', -0.16286146443156094],\n",
       " ['ts_km', -0.16243549343958658],\n",
       " ['power_transmission_line_km', -0.16068741279465706],\n",
       " ['green_part_5000', -0.15964653046628671],\n",
       " ['big_road2_km', -0.15901071724754676],\n",
       " ['cafe_count_3000_price_1000', 0.15887857258828408],\n",
       " ['office_count_1500', 0.15594530974705376],\n",
       " ['raion_popul', 0.155927590384242],\n",
       " ['school_km', -0.15493860132024581],\n",
       " ['cafe_count_3000_price_high', 0.15418644515794247],\n",
       " ['additional_education_km', -0.15325264564897684],\n",
       " ['preschool_km', -0.1531527606709025],\n",
       " ['ice_rink_km', -0.15222995272761919],\n",
       " ['leisure_count_500', 0.15062148399125497],\n",
       " ['market_count_3000', 0.1502759841959613],\n",
       " ['work_male', 0.14996656872589237],\n",
       " ['cafe_count_1000_price_1000', 0.14850923266158722],\n",
       " ['shopping_centers_raion', 0.14805968532435174],\n",
       " ['cafe_count_3000_na_price', 0.14761559676862648],\n",
       " ['work_all', 0.14746920735091767],\n",
       " ['office_count_3000', 0.14707314262560692],\n",
       " ['office_sqm_1000', 0.14619926403331965],\n",
       " ['cafe_count_3000', 0.14600609441742515],\n",
       " ['cafe_count_3000_price_1500', 0.14484936116870009],\n",
       " ['0_17_female', 0.14448983114941671],\n",
       " ['7_14_female', 0.14426078339400986],\n",
       " ['work_female', 0.14414933254332973],\n",
       " ['trc_count_1500', 0.14412201540747013],\n",
       " ['kindergarten_km', -0.14377897405162723],\n",
       " ['0_17_all', 0.14369354685694719],\n",
       " ['cafe_count_500_price_1500', 0.14367486992657499],\n",
       " ['children_school', 0.14355935180885654],\n",
       " ['7_14_all', 0.14355935180885654],\n",
       " ['0_13_female', 0.14281275066028651],\n",
       " ['0_17_male', 0.14268132544800805],\n",
       " ['young_female', 0.14251360715170036],\n",
       " ['7_14_male', 0.14242765834123636],\n",
       " ['0_13_all', 0.14183847865460478],\n",
       " ['green_part_3000', -0.14177472007739861],\n",
       " ['young_all', 0.14147736092718982],\n",
       " ['cafe_count_3000_price_500', 0.14114589758881199],\n",
       " ['cafe_count_3000_price_2500', 0.14075917866931442],\n",
       " ['0_13_male', 0.14063201218022869],\n",
       " ['office_count_2000', 0.14040789730193076],\n",
       " ['young_male', 0.14022983859952667],\n",
       " ['0_6_female', 0.13955920693913873],\n",
       " ['eurrub', -0.13888525902948146],\n",
       " ['children_preschool', 0.13868301178597595],\n",
       " ['0_6_all', 0.13868301178597595],\n",
       " ['0_6_male', 0.13761254091002237],\n",
       " ['railroad_station_avto_min', -0.13631805408919001],\n",
       " ['office_raion', 0.13447540720727039],\n",
       " ['trc_sqm_2000', 0.1342332438649339],\n",
       " ['usdrub', -0.13406853648743552],\n",
       " ['church_synagogue_km', -0.12943652605515538],\n",
       " ['church_count_3000', 0.12926668359529175],\n",
       " ['railroad_station_avto_km', -0.1281043373113607],\n",
       " ['brent', 0.12792854426897537],\n",
       " ['oil_chemistry_km', -0.12729354697417958],\n",
       " ['public_transport_station_km', -0.12668724996225067],\n",
       " ['public_transport_station_min_walk', -0.12668724995471975],\n",
       " ['oil_urals', 0.12644023846204624],\n",
       " ['deposits_rate', -0.12636692408658012],\n",
       " ['cafe_count_1500_price_1000', 0.12625504411477306],\n",
       " ['office_sqm_500', 0.12586976313690953],\n",
       " ['rts', 0.12581222284160565],\n",
       " ['big_church_count_3000', 0.12490426837604553],\n",
       " ['cafe_count_2000_price_1000', 0.12197695506422407],\n",
       " ['mosque_count_1500', 0.12131801403911305],\n",
       " ['cafe_count_1500_price_high', 0.11931903125435718],\n",
       " ['micex_rgbi_tr', 0.11908147717556025],\n",
       " ['cafe_count_3000_price_4000', 0.11737294023900954],\n",
       " ['market_count_2000', 0.11508020333793716],\n",
       " ['cafe_count_1500_na_price', 0.114965446916045],\n",
       " ['cafe_count_2000', 0.11293066020897974],\n",
       " ['cafe_count_2000_price_1500', 0.1127863602756775],\n",
       " ['cafe_count_2000_price_high', 0.11259071437910763],\n",
       " ['cafe_count_500', 0.11162688318205155],\n",
       " ['cafe_count_1000_price_1500', 0.11141871291832453],\n",
       " ['cafe_count_2000_price_500', 0.11125579088700711],\n",
       " ['leisure_count_1500', 0.11092535982505956],\n",
       " ['cafe_count_2000_na_price', 0.110818587380312],\n",
       " ['cafe_count_2000_price_2500', 0.11018384307121255],\n",
       " ['cafe_count_1500_price_2500', 0.1099354475503896],\n",
       " ['gdp_quart', -0.10782764718331946],\n",
       " ['cafe_count_1500', 0.10668251943523348],\n",
       " ['mosque_count_2000', 0.10565440525341291],\n",
       " ['cafe_count_1500_price_1500', 0.10269056030113174],\n",
       " ['cafe_count_1000_na_price', 0.10229276081049359],\n",
       " ['leisure_count_3000', 0.10187780494325482],\n",
       " ['green_zone_part', -0.10153462928007466],\n",
       " ['mosque_count_3000', 0.10036198903468158],\n",
       " ['big_road1_km', -0.099628688900659776],\n",
       " ['cafe_count_1500_price_500', 0.09947849660996784],\n",
       " ['school_education_centers_top_20_raion', 0.098479972595810525],\n",
       " ['average_provision_of_build_contract', -0.098240487473899574],\n",
       " ['cafe_count_1000', 0.097749252547963905],\n",
       " ['mosque_count_1000', 0.097096955474993418],\n",
       " ['railroad_km', -0.095562314483469302]]"
      ]
     },
     "execution_count": 16,
     "metadata": {},
     "output_type": "execute_result"
    }
   ],
   "source": [
    "corr_c[:170]"
   ]
  },
  {
   "cell_type": "code",
   "execution_count": 17,
   "metadata": {
    "collapsed": true
   },
   "outputs": [],
   "source": [
    "correl_15 = []\n",
    "sp_correl_15 = []\n",
    "\n",
    "for c in corr_c:\n",
    "    if abs(c[1]) > 0.15:\n",
    "        correl_15.append(c[0])\n",
    "\n",
    "for c in sp_corr_c:\n",
    "    if abs(c[1]) > 0.25:\n",
    "        sp_correl_15.append(c[0])"
   ]
  },
  {
   "cell_type": "code",
   "execution_count": 18,
   "metadata": {
    "collapsed": false
   },
   "outputs": [
    {
     "name": "stdout",
     "output_type": "stream",
     "text": [
      "['full_sq', 'sport_count_5000', 'sport_count_3000', 'trc_count_5000', 'zd_vokzaly_avto_km', 'sadovoe_km', 'sport_count_2000', 'bulvar_ring_km', 'kremlin_km', 'ttk_km', 'trc_sqm_5000', 'nuclear_reactor_km', 'sport_count_1500', 'office_sqm_5000', 'sport_objects_raion', 'trc_count_3000', 'stadium_km', 'cafe_count_5000_price_1000', 'detention_facility_km', 'basketball_km', 'cafe_count_5000_price_1500', 'office_km', 'cafe_count_5000', 'cafe_count_5000_na_price', 'university_km', 'trc_sqm_3000', 'cafe_count_5000_price_500', 'workplaces_km', 'cafe_count_5000_price_2500', 'office_sqm_3000', 'theater_km', 'swim_pool_km', 'thermal_power_plant_km', 'office_count_5000', 'catering_km', 'exhibition_km', 'church_count_5000', 'office_sqm_2000', 'cafe_count_5000_price_high', 'radiation_km', 'cafe_count_5000_price_4000', 'big_church_km', 'school_education_centers_raion', 'sport_count_1000', 'fitness_km', 'metro_min_avto', 'market_count_5000', 'museum_km', 'park_km', 'big_church_count_5000', 'leisure_count_5000', 'healthcare_centers_raion', 'office_sqm_1500', 'ekder_male', 'metro_km_avto', 'trc_count_2000', 'shopping_centers_km', 'market_shop_km', 'mosque_count_5000', 'office_count_500', 'public_healthcare_km', 'ekder_all', 'cafe_count_500_price_1000', 'area_m', 'ekder_female', 'bus_terminal_avto_km', 'mosque_km', 'office_count_1000', 'preschool_education_centers_raion', 'cafe_count_1000_price_high', 'university_top_20_raion', 'hospice_morgue_km', 'ts_km', 'power_transmission_line_km', 'green_part_5000', 'big_road2_km', 'cafe_count_3000_price_1000', 'office_count_1500', 'raion_popul', 'school_km', 'cafe_count_3000_price_high', 'additional_education_km', 'preschool_km', 'ice_rink_km', 'leisure_count_500', 'market_count_3000']\n"
     ]
    }
   ],
   "source": [
    "print(correl_15)"
   ]
  },
  {
   "cell_type": "code",
   "execution_count": 19,
   "metadata": {
    "collapsed": false
   },
   "outputs": [
    {
     "name": "stdout",
     "output_type": "stream",
     "text": [
      "['full_sq', 'cafe_count_2000', 'cafe_count_3000_price_2500', 'cafe_count_3000_price_1500', 'cafe_count_3000', 'cafe_count_2000_price_1000', 'cafe_count_3000_price_1000', 'cafe_count_5000_price_1500', 'cafe_count_2000_price_1500', 'cafe_count_5000', 'cafe_count_1500', 'cafe_count_5000_price_2500', 'cafe_count_5000_price_1000', 'trc_count_5000', 'trc_count_3000', 'cafe_count_2000_price_2500', 'sport_count_3000', 'sport_count_5000', 'cafe_count_5000_price_500', 'cafe_count_1500_price_1000', 'cafe_count_3000_price_500', 'sport_count_2000', 'cafe_count_1000', 'cafe_count_5000_na_price', 'cafe_count_2000_price_500', 'cafe_count_1500_price_1500', 'ttk_km', 'sadovoe_km', 'office_count_5000', 'kremlin_km', 'zd_vokzaly_avto_km', 'office_sqm_5000', 'trc_count_2000', 'trc_sqm_3000', 'bulvar_ring_km', 'trc_sqm_5000', 'sport_count_1500', 'nuclear_reactor_km', 'office_count_3000', 'sport_objects_raion', 'metro_km_avto', 'cafe_count_1500_price_500', 'cafe_count_1500_price_2500', 'workplaces_km', 'big_church_count_5000', 'office_count_2000', 'office_sqm_3000', 'cafe_count_1000_price_1000', 'cafe_count_5000_price_high', 'metro_min_avto', 'stadium_km', 'trc_count_1500', 'cafe_count_3000_na_price', 'school_education_centers_raion', 'cafe_count_5000_price_4000', 'swim_pool_km', 'cafe_count_1000_price_1500', 'big_church_km', 'office_count_1500', 'church_count_5000', 'sport_count_1000', 'public_healthcare_km', 'office_km', 'office_sqm_2000', 'basketball_km', 'big_church_count_3000', 'church_count_3000', 'cafe_count_1000_price_500', 'ekder_male', 'university_km', 'detention_facility_km', 'cafe_count_2000_na_price', 'shopping_centers_raion', 'cafe_count_500', 'office_raion', 'trc_sqm_2000', 'fitness_km', 'ekder_all', 'market_count_5000', 'leisure_count_5000', 'ekder_female', 'catering_km', 'park_km', 'raion_popul', 'work_male', 'shopping_centers_km', 'office_sqm_1500', 'thermal_power_plant_km', 'exhibition_km']\n"
     ]
    }
   ],
   "source": [
    "print(sp_correl_15)"
   ]
  },
  {
   "cell_type": "code",
   "execution_count": 20,
   "metadata": {
    "collapsed": false
   },
   "outputs": [
    {
     "name": "stdout",
     "output_type": "stream",
     "text": [
      "['full_sq', 'sport_count_5000', 'sport_count_3000', 'trc_count_5000', 'zd_vokzaly_avto_km', 'sadovoe_km', 'sport_count_2000', 'bulvar_ring_km', 'kremlin_km', 'ttk_km', 'trc_sqm_5000', 'nuclear_reactor_km', 'sport_count_1500', 'office_sqm_5000', 'sport_objects_raion', 'trc_count_3000', 'stadium_km', 'cafe_count_5000_price_1000', 'detention_facility_km', 'basketball_km', 'cafe_count_5000_price_1500', 'office_km', 'cafe_count_5000', 'cafe_count_5000_na_price', 'university_km', 'trc_sqm_3000', 'cafe_count_5000_price_500', 'workplaces_km', 'cafe_count_5000_price_2500', 'office_sqm_3000', 'swim_pool_km', 'thermal_power_plant_km', 'office_count_5000', 'catering_km', 'exhibition_km', 'church_count_5000', 'office_sqm_2000', 'cafe_count_5000_price_high', 'cafe_count_5000_price_4000', 'big_church_km', 'school_education_centers_raion', 'sport_count_1000', 'fitness_km', 'metro_min_avto', 'market_count_5000', 'park_km', 'big_church_count_5000', 'leisure_count_5000', 'office_sqm_1500', 'ekder_male', 'metro_km_avto', 'trc_count_2000', 'shopping_centers_km', 'public_healthcare_km', 'ekder_all', 'ekder_female', 'cafe_count_3000_price_1000', 'office_count_1500', 'raion_popul']\n"
     ]
    }
   ],
   "source": [
    "both_corr = []\n",
    "for k in correl_15:\n",
    "    if k in sp_correl_15:\n",
    "        both_corr.append(k)\n",
    "print(both_corr)"
   ]
  },
  {
   "cell_type": "code",
   "execution_count": 29,
   "metadata": {
    "collapsed": false
   },
   "outputs": [
    {
     "data": {
      "text/plain": [
       "[['theater_km', -0.21276866009041509]]"
      ]
     },
     "execution_count": 29,
     "metadata": {},
     "output_type": "execute_result"
    }
   ],
   "source": [
    "corr15_only = []\n",
    "for k in corr_c:\n",
    "    if k[0] not in both_corr and abs(k[1]) > 0.2:\n",
    "        corr15_only.append(k)\n",
    "corr15_only"
   ]
  },
  {
   "cell_type": "code",
   "execution_count": 27,
   "metadata": {
    "collapsed": false
   },
   "outputs": [
    {
     "data": {
      "text/plain": [
       "[['cafe_count_2000', 0.36325400039557892],\n",
       " ['cafe_count_3000_price_2500', 0.35521400027549871],\n",
       " ['cafe_count_3000_price_1500', 0.35488503845598451],\n",
       " ['cafe_count_3000', 0.35370671909241375],\n",
       " ['cafe_count_2000_price_1000', 0.35238170130835417],\n",
       " ['cafe_count_2000_price_1500', 0.34623034431255423],\n",
       " ['cafe_count_1500', 0.3456888606061973],\n",
       " ['cafe_count_2000_price_2500', 0.33563864691322887],\n",
       " ['cafe_count_1500_price_1000', 0.33082136911641363],\n",
       " ['cafe_count_3000_price_500', 0.3281547617692615],\n",
       " ['cafe_count_1000', 0.32635631013245353],\n",
       " ['cafe_count_2000_price_500', 0.32430519782681055],\n",
       " ['cafe_count_1500_price_1500', 0.322575384752528],\n",
       " ['office_count_3000', 0.30914784275262486],\n",
       " ['cafe_count_1500_price_500', 0.30475376025509898],\n",
       " ['cafe_count_1500_price_2500', 0.30446303076649783]]"
      ]
     },
     "execution_count": 27,
     "metadata": {},
     "output_type": "execute_result"
    }
   ],
   "source": [
    "sp_corr15_only = []\n",
    "for k in sp_corr_c:\n",
    "    if k[0] not in both_corr and k[1] > 0.3:\n",
    "        sp_corr15_only.append(k)\n",
    "sp_corr15_only"
   ]
  },
  {
   "cell_type": "code",
   "execution_count": 40,
   "metadata": {
    "collapsed": false
   },
   "outputs": [
    {
     "data": {
      "text/plain": [
       "(36, 47, 11)"
      ]
     },
     "execution_count": 40,
     "metadata": {},
     "output_type": "execute_result"
    }
   ],
   "source": [
    "len(both_corr), len(correl_15), len(corr15_only)"
   ]
  },
  {
   "cell_type": "code",
   "execution_count": 27,
   "metadata": {
    "collapsed": false
   },
   "outputs": [
    {
     "data": {
      "text/plain": [
       "[['full_sq', 0.48729718654049942],\n",
       " ['cafe_count_2000', 0.36325400039557892],\n",
       " ['cafe_count_3000_price_2500', 0.35521400027549871],\n",
       " ['cafe_count_3000_price_1500', 0.35488503845598451],\n",
       " ['cafe_count_3000', 0.35370671909241375],\n",
       " ['cafe_count_2000_price_1000', 0.35238170130835417],\n",
       " ['cafe_count_3000_price_1000', 0.34960677988105399],\n",
       " ['cafe_count_5000_price_1500', 0.34645164919035398],\n",
       " ['cafe_count_2000_price_1500', 0.34623034431255423],\n",
       " ['cafe_count_5000', 0.34581665212530993],\n",
       " ['cafe_count_1500', 0.3456888606061973],\n",
       " ['cafe_count_5000_price_2500', 0.34504048162427503],\n",
       " ['cafe_count_5000_price_1000', 0.33905231304010414],\n",
       " ['trc_count_5000', 0.33650959572825734],\n",
       " ['trc_count_3000', 0.33644011987488376],\n",
       " ['cafe_count_2000_price_2500', 0.33563864691322887],\n",
       " ['sport_count_3000', 0.33529439803424077],\n",
       " ['sport_count_5000', 0.33412202649342493],\n",
       " ['cafe_count_5000_price_500', 0.33107028497683127],\n",
       " ['cafe_count_1500_price_1000', 0.33082136911641363],\n",
       " ['cafe_count_3000_price_500', 0.3281547617692615],\n",
       " ['sport_count_2000', 0.32768845915474065],\n",
       " ['cafe_count_1000', 0.32635631013245353],\n",
       " ['cafe_count_5000_na_price', 0.32564611584581271],\n",
       " ['cafe_count_2000_price_500', 0.32430519782681055],\n",
       " ['cafe_count_1500_price_1500', 0.322575384752528],\n",
       " ['ttk_km', -0.32096045762886377],\n",
       " ['sadovoe_km', -0.3165416173514764],\n",
       " ['office_count_5000', 0.31606023165638242],\n",
       " ['kremlin_km', -0.31542785913230131],\n",
       " ['zd_vokzaly_avto_km', -0.31375005278096307],\n",
       " ['office_sqm_5000', 0.31297424910135396],\n",
       " ['trc_count_2000', 0.31194545213142988],\n",
       " ['trc_sqm_3000', 0.31183219062852885],\n",
       " ['bulvar_ring_km', -0.31111933262149805],\n",
       " ['trc_sqm_5000', 0.31037911461406847],\n",
       " ['sport_count_1500', 0.30995576320674023],\n",
       " ['nuclear_reactor_km', -0.30981963867969287],\n",
       " ['office_count_3000', 0.30914784275262486],\n",
       " ['sport_objects_raion', 0.30804530425948357],\n",
       " ['metro_km_avto', -0.30482536978647479],\n",
       " ['cafe_count_1500_price_500', 0.30475376025509898],\n",
       " ['cafe_count_1500_price_2500', 0.30446303076649783],\n",
       " ['workplaces_km', -0.3012131919832573],\n",
       " ['big_church_count_5000', 0.29955829358741692],\n",
       " ['office_count_2000', 0.29861820359795255],\n",
       " ['office_sqm_3000', 0.29858253613810476],\n",
       " ['cafe_count_1000_price_1000', 0.29426901399306177],\n",
       " ['cafe_count_5000_price_high', 0.293181459176307],\n",
       " ['metro_min_avto', -0.29106538703677004],\n",
       " ['stadium_km', -0.29041003019806777],\n",
       " ['trc_count_1500', 0.28952109777083368],\n",
       " ['cafe_count_3000_na_price', 0.28717596099268156],\n",
       " ['school_education_centers_raion', 0.2867317048247971],\n",
       " ['cafe_count_5000_price_4000', 0.28627899907485449],\n",
       " ['swim_pool_km', -0.28594551923045419],\n",
       " ['cafe_count_1000_price_1500', 0.28534211657960901],\n",
       " ['big_church_km', -0.2842296092396791],\n",
       " ['office_count_1500', 0.28276935732720704],\n",
       " ['church_count_5000', 0.2818713569381795],\n",
       " ['sport_count_1000', 0.27886302984932343],\n",
       " ['public_healthcare_km', -0.2779977645347223],\n",
       " ['office_km', -0.27775484885403257],\n",
       " ['office_sqm_2000', 0.27663691093021353],\n",
       " ['basketball_km', -0.27551448451163318],\n",
       " ['big_church_count_3000', 0.27544289631781604],\n",
       " ['church_count_3000', 0.27527562963542307],\n",
       " ['cafe_count_1000_price_500', 0.27388442293408649],\n",
       " ['ekder_male', 0.27251043651720025],\n",
       " ['university_km', -0.27092176097933229],\n",
       " ['detention_facility_km', -0.26965047081350985],\n",
       " ['cafe_count_2000_na_price', 0.26958717029013535],\n",
       " ['shopping_centers_raion', 0.26722084540943447],\n",
       " ['cafe_count_500', 0.26450516279325142],\n",
       " ['office_raion', 0.26417703033461198],\n",
       " ['trc_sqm_2000', 0.26388845404742328],\n",
       " ['fitness_km', -0.26303019232573205],\n",
       " ['ekder_all', 0.26233811962397391],\n",
       " ['market_count_5000', 0.26014750370767759],\n",
       " ['leisure_count_5000', 0.25953689271660108]]"
      ]
     },
     "execution_count": 27,
     "metadata": {},
     "output_type": "execute_result"
    }
   ],
   "source": [
    "sp_corr_c[:80]"
   ]
  }
 ],
 "metadata": {
  "anaconda-cloud": {},
  "kernelspec": {
   "display_name": "Python [conda root]",
   "language": "python",
   "name": "conda-root-py"
  },
  "language_info": {
   "codemirror_mode": {
    "name": "ipython",
    "version": 3
   },
   "file_extension": ".py",
   "mimetype": "text/x-python",
   "name": "python",
   "nbconvert_exporter": "python",
   "pygments_lexer": "ipython3",
   "version": "3.5.2"
  }
 },
 "nbformat": 4,
 "nbformat_minor": 1
}
